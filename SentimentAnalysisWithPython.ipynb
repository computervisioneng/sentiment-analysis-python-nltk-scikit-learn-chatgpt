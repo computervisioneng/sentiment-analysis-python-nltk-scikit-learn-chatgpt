{
  "nbformat": 4,
  "nbformat_minor": 0,
  "metadata": {
    "colab": {
      "provenance": []
    },
    "kernelspec": {
      "name": "python3",
      "display_name": "Python 3"
    },
    "language_info": {
      "name": "python"
    }
  },
  "cells": [
    {
      "cell_type": "code",
      "execution_count": null,
      "metadata": {
        "id": "U2xLFgeDjXC3"
      },
      "outputs": [],
      "source": [
        "### 0. Install requirements ###\n",
        "\n",
        "!pip install openai pandas nltk scikit-learn"
      ]
    },
    {
      "cell_type": "code",
      "source": [
        "### 1. Data ####\n",
        "\n",
        "import pandas as pd\n",
        "\n",
        "!gdown <file_id>  # download the csv file\n",
        "\n",
        "reviews = pd.read_csv('./reviews.csv')  # load reviews\n",
        "\n",
        "text = reviews['text'][0]  # get first review\n",
        "\n",
        "print(text)\n"
      ],
      "metadata": {
        "id": "WzB1SO8KQ5g9"
      },
      "execution_count": null,
      "outputs": []
    },
    {
      "cell_type": "code",
      "source": [
        "### 2. Sentiment analysis with NLTK ###\n",
        "\n",
        "import nltk\n",
        "nltk.download('vader_lexicon')\n",
        "from nltk.sentiment import SentimentIntensityAnalyzer\n",
        "\n",
        "sia = SentimentIntensityAnalyzer()\n",
        "\n",
        "def sentiment_analysis_nltk(text):\n",
        "\n",
        "  score = sia.polarity_scores(text)\n",
        "\n",
        "  if score['compound'] > 0:\n",
        "      return 'positive'\n",
        "  else:\n",
        "      return 'negative'\n"
      ],
      "metadata": {
        "id": "lmgZ4_OZn_Go",
        "colab": {
          "base_uri": "https://localhost:8080/"
        },
        "outputId": "ef0d9f56-f298-4aee-90b1-2f2e3144b1f8"
      },
      "execution_count": null,
      "outputs": [
        {
          "output_type": "stream",
          "name": "stderr",
          "text": [
            "[nltk_data] Downloading package vader_lexicon to /root/nltk_data...\n"
          ]
        }
      ]
    },
    {
      "cell_type": "code",
      "source": [
        "### 3. Sentiment analysis with Scikit-Learn ###\n",
        "\n",
        "from sklearn.feature_extraction.text import TfidfVectorizer\n",
        "from sklearn.model_selection import train_test_split\n",
        "from sklearn.svm import SVC\n",
        "from sklearn.metrics import accuracy_score\n",
        "\n",
        "features = reviews['text']\n",
        "labels = reviews['sentiment']\n",
        "\n",
        "X_train, X_test, y_train, y_test = train_test_split(features, labels, test_size=0.2, stratify=labels)\n",
        "\n",
        "vectorizer = TfidfVectorizer()\n",
        "X_train = vectorizer.fit_transform(X_train)\n",
        "X_test = vectorizer.transform(X_test)\n",
        "\n",
        "classifier = SVC()\n",
        "classifier.fit(X_train, y_train)\n",
        "\n",
        "def sentiment_analysis_scikit_learn(text):\n",
        "\n",
        "  _ = vectorizer.transform([text])\n",
        "\n",
        "  prediction = classifier.predict(_)\n",
        "\n",
        "  if 'positive' in prediction[0]:\n",
        "    return 'positive'\n",
        "  else:\n",
        "    return 'negative'\n"
      ],
      "metadata": {
        "id": "hWSWLeJgQ7nk"
      },
      "execution_count": null,
      "outputs": []
    },
    {
      "cell_type": "code",
      "source": [
        "### 4. Sentiment analysis with ChatGPT ###\n",
        "\n",
        "from openai import OpenAI\n",
        "\n",
        "\n",
        "openai_key = None\n",
        "\n",
        "client = OpenAI(\n",
        "    # This is the default and can be omitted\n",
        "    api_key=openai_key,\n",
        ")\n",
        "\n",
        "def sentiment_analysis_chatgpt(text):\n",
        "\n",
        "  prompt = ('Classify the sentiment of this review: \"{}\"'.format(text) +\n",
        "            'Sentiment is binary, either \"positive\" or \"negative\".' +\n",
        "            'Return only the sentiment.')\n",
        "\n",
        "  chat_completion = client.chat.completions.create(\n",
        "      messages=[\n",
        "          {\n",
        "              \"role\": \"user\",\n",
        "              \"content\": prompt,\n",
        "          }\n",
        "      ],\n",
        "      model=\"gpt-3.5-turbo\",\n",
        "  )\n",
        "\n",
        "  response_ = chat_completion.choices[0].message.content\n",
        "\n",
        "  if 'positive' in response_.lower():\n",
        "    return 'positive'\n",
        "  else:\n",
        "    return 'negative'"
      ],
      "metadata": {
        "id": "90WHc9wlQ9F0"
      },
      "execution_count": null,
      "outputs": []
    },
    {
      "cell_type": "code",
      "source": [
        "### 5. Compare performances ###\n",
        "\n",
        "score_nltk = 0\n",
        "score_scikit_learn = 0\n",
        "score_chatgpt = 0\n",
        "\n",
        "for j in range(len(reviews)):\n",
        "\n",
        "  text = reviews['text'][j]\n",
        "  sentiment = reviews['sentiment'][j]\n",
        "\n",
        "  if sentiment_analysis_nltk(text) in [sentiment]:\n",
        "    score_nltk += 1\n",
        "\n",
        "  if sentiment_analysis_scikit_learn(text) in [sentiment]:\n",
        "    score_scikit_learn += 1\n",
        "\n",
        "  if sentiment_analysis_chatgpt(text) in [sentiment]:\n",
        "    score_chatgpt += 1\n",
        "\n",
        "\n",
        "score_nltk /= len(reviews)\n",
        "score_scikit_learn /= len(reviews)\n",
        "score_chatgpt /= len(reviews)\n",
        "\n",
        "print('score_nltk', score_nltk)\n",
        "print('score_scikit_learn', score_scikit_learn)\n",
        "print('score_chatgpt', score_chatgpt)"
      ],
      "metadata": {
        "id": "b3sy6ec1Q-n4"
      },
      "execution_count": null,
      "outputs": []
    }
  ]
}